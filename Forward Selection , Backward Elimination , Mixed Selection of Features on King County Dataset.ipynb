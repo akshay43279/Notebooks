{
 "cells": [
  {
   "cell_type": "markdown",
   "metadata": {},
   "source": [
    "# Predict King House Prices using Different Machine Learnring Techniques. Select the optimal set of features"
   ]
  },
  {
   "cell_type": "markdown",
   "metadata": {},
   "source": [
    "# Problem Definition"
   ]
  },
  {
   "cell_type": "markdown",
   "metadata": {},
   "source": [
    "This dataset contains house sale prices for King County, which includes Seattle. It includes homes sold between May 2014 and May 2015.\n",
    "\n",
    "The attributes are defined as follows:\n",
    "\n",
    "1. id: a notation for a house\n",
    "2. date: Date house was sold\n",
    "3. price: Price is prediction target\n",
    "4. bedrooms: Number of Bedrooms/House\n",
    "5. bathrooms: Number of bathrooms/bedrooms\n",
    "6. sqft_living: square footage of the home\n",
    "7. sqft_lots: quare footage of the lot\n",
    "8. floors: Total floors (levels) in house\n",
    "9. waterfront: House which has a view to a waterfront\n",
    "10. view: Has been viewed\n",
    "11. condition: How good the condition is ( Overall )\n",
    "12. gradeoverall: grade given to the housing unit, based on King County grading system\n",
    "13. sqft_above: square footage of house apart from basement\n",
    "14. sqft_basement: square footage of the basement\n",
    "15. yr_built: Built Year\n",
    "16. yr_renovated: Year when house was renovated\n",
    "17. zipcode: zip\n",
    "18. lat: Latitude coordinate\n",
    "19. long: Longitude coordinate\n",
    "20. sqft_living15: Living room area in 2015(implies-- some renovations) This might or might not have affected the lotsize area\n",
    "21. sqft_lot15: lotSize area in 2015(implies-- some renovations)"
   ]
  },
  {
   "cell_type": "code",
   "execution_count": 1,
   "metadata": {},
   "outputs": [],
   "source": [
    "import warnings\n",
    "warnings.filterwarnings('ignore')"
   ]
  },
  {
   "cell_type": "code",
   "execution_count": 2,
   "metadata": {},
   "outputs": [],
   "source": [
    "# Load libraries\n",
    "import pandas as pd\n",
    "import numpy as np\n",
    "from sklearn.linear_model import LinearRegression\n",
    "from sklearn.tree import DecisionTreeRegressor\n",
    "from sklearn.neighbors import KNeighborsRegressor\n",
    "from sklearn.ensemble import RandomForestRegressor\n",
    "from sklearn.model_selection import train_test_split\n",
    "from sklearn.model_selection import KFold\n",
    "from sklearn.model_selection import cross_val_score\n",
    "from matplotlib import pyplot\n",
    "import seaborn as sn\n",
    "%matplotlib inline"
   ]
  },
  {
   "cell_type": "code",
   "execution_count": 3,
   "metadata": {},
   "outputs": [],
   "source": [
    "from mlxtend.feature_selection import SequentialFeatureSelector as sfs"
   ]
  },
  {
   "cell_type": "code",
   "execution_count": 4,
   "metadata": {},
   "outputs": [],
   "source": [
    "# Load dataset\n",
    "data = pd.read_csv('kc_house_data.csv')"
   ]
  },
  {
   "cell_type": "code",
   "execution_count": 5,
   "metadata": {},
   "outputs": [
    {
     "data": {
      "text/plain": [
       "(21613, 21)"
      ]
     },
     "execution_count": 5,
     "metadata": {},
     "output_type": "execute_result"
    }
   ],
   "source": [
    "data.shape"
   ]
  },
  {
   "cell_type": "code",
   "execution_count": 6,
   "metadata": {},
   "outputs": [
    {
     "data": {
      "text/plain": [
       "id                 int64\n",
       "date              object\n",
       "price            float64\n",
       "bedrooms           int64\n",
       "bathrooms        float64\n",
       "sqft_living        int64\n",
       "sqft_lot           int64\n",
       "floors           float64\n",
       "waterfront         int64\n",
       "view               int64\n",
       "condition          int64\n",
       "grade              int64\n",
       "sqft_above         int64\n",
       "sqft_basement      int64\n",
       "yr_built           int64\n",
       "yr_renovated       int64\n",
       "zipcode            int64\n",
       "lat              float64\n",
       "long             float64\n",
       "sqft_living15      int64\n",
       "sqft_lot15         int64\n",
       "dtype: object"
      ]
     },
     "execution_count": 6,
     "metadata": {},
     "output_type": "execute_result"
    }
   ],
   "source": [
    "data.dtypes"
   ]
  },
  {
   "cell_type": "code",
   "execution_count": 7,
   "metadata": {},
   "outputs": [
    {
     "data": {
      "text/html": [
       "<div>\n",
       "<style scoped>\n",
       "    .dataframe tbody tr th:only-of-type {\n",
       "        vertical-align: middle;\n",
       "    }\n",
       "\n",
       "    .dataframe tbody tr th {\n",
       "        vertical-align: top;\n",
       "    }\n",
       "\n",
       "    .dataframe thead th {\n",
       "        text-align: right;\n",
       "    }\n",
       "</style>\n",
       "<table border=\"1\" class=\"dataframe\">\n",
       "  <thead>\n",
       "    <tr style=\"text-align: right;\">\n",
       "      <th></th>\n",
       "      <th>id</th>\n",
       "      <th>date</th>\n",
       "      <th>price</th>\n",
       "      <th>bedrooms</th>\n",
       "      <th>bathrooms</th>\n",
       "      <th>sqft_living</th>\n",
       "      <th>sqft_lot</th>\n",
       "      <th>floors</th>\n",
       "      <th>waterfront</th>\n",
       "      <th>view</th>\n",
       "      <th>...</th>\n",
       "      <th>grade</th>\n",
       "      <th>sqft_above</th>\n",
       "      <th>sqft_basement</th>\n",
       "      <th>yr_built</th>\n",
       "      <th>yr_renovated</th>\n",
       "      <th>zipcode</th>\n",
       "      <th>lat</th>\n",
       "      <th>long</th>\n",
       "      <th>sqft_living15</th>\n",
       "      <th>sqft_lot15</th>\n",
       "    </tr>\n",
       "  </thead>\n",
       "  <tbody>\n",
       "    <tr>\n",
       "      <th>0</th>\n",
       "      <td>7129300520</td>\n",
       "      <td>20141013T000000</td>\n",
       "      <td>221900.0</td>\n",
       "      <td>3</td>\n",
       "      <td>1.00</td>\n",
       "      <td>1180</td>\n",
       "      <td>5650</td>\n",
       "      <td>1.0</td>\n",
       "      <td>0</td>\n",
       "      <td>0</td>\n",
       "      <td>...</td>\n",
       "      <td>7</td>\n",
       "      <td>1180</td>\n",
       "      <td>0</td>\n",
       "      <td>1955</td>\n",
       "      <td>0</td>\n",
       "      <td>98178</td>\n",
       "      <td>47.5112</td>\n",
       "      <td>-122.257</td>\n",
       "      <td>1340</td>\n",
       "      <td>5650</td>\n",
       "    </tr>\n",
       "    <tr>\n",
       "      <th>1</th>\n",
       "      <td>6414100192</td>\n",
       "      <td>20141209T000000</td>\n",
       "      <td>538000.0</td>\n",
       "      <td>3</td>\n",
       "      <td>2.25</td>\n",
       "      <td>2570</td>\n",
       "      <td>7242</td>\n",
       "      <td>2.0</td>\n",
       "      <td>0</td>\n",
       "      <td>0</td>\n",
       "      <td>...</td>\n",
       "      <td>7</td>\n",
       "      <td>2170</td>\n",
       "      <td>400</td>\n",
       "      <td>1951</td>\n",
       "      <td>1991</td>\n",
       "      <td>98125</td>\n",
       "      <td>47.7210</td>\n",
       "      <td>-122.319</td>\n",
       "      <td>1690</td>\n",
       "      <td>7639</td>\n",
       "    </tr>\n",
       "    <tr>\n",
       "      <th>2</th>\n",
       "      <td>5631500400</td>\n",
       "      <td>20150225T000000</td>\n",
       "      <td>180000.0</td>\n",
       "      <td>2</td>\n",
       "      <td>1.00</td>\n",
       "      <td>770</td>\n",
       "      <td>10000</td>\n",
       "      <td>1.0</td>\n",
       "      <td>0</td>\n",
       "      <td>0</td>\n",
       "      <td>...</td>\n",
       "      <td>6</td>\n",
       "      <td>770</td>\n",
       "      <td>0</td>\n",
       "      <td>1933</td>\n",
       "      <td>0</td>\n",
       "      <td>98028</td>\n",
       "      <td>47.7379</td>\n",
       "      <td>-122.233</td>\n",
       "      <td>2720</td>\n",
       "      <td>8062</td>\n",
       "    </tr>\n",
       "    <tr>\n",
       "      <th>3</th>\n",
       "      <td>2487200875</td>\n",
       "      <td>20141209T000000</td>\n",
       "      <td>604000.0</td>\n",
       "      <td>4</td>\n",
       "      <td>3.00</td>\n",
       "      <td>1960</td>\n",
       "      <td>5000</td>\n",
       "      <td>1.0</td>\n",
       "      <td>0</td>\n",
       "      <td>0</td>\n",
       "      <td>...</td>\n",
       "      <td>7</td>\n",
       "      <td>1050</td>\n",
       "      <td>910</td>\n",
       "      <td>1965</td>\n",
       "      <td>0</td>\n",
       "      <td>98136</td>\n",
       "      <td>47.5208</td>\n",
       "      <td>-122.393</td>\n",
       "      <td>1360</td>\n",
       "      <td>5000</td>\n",
       "    </tr>\n",
       "    <tr>\n",
       "      <th>4</th>\n",
       "      <td>1954400510</td>\n",
       "      <td>20150218T000000</td>\n",
       "      <td>510000.0</td>\n",
       "      <td>3</td>\n",
       "      <td>2.00</td>\n",
       "      <td>1680</td>\n",
       "      <td>8080</td>\n",
       "      <td>1.0</td>\n",
       "      <td>0</td>\n",
       "      <td>0</td>\n",
       "      <td>...</td>\n",
       "      <td>8</td>\n",
       "      <td>1680</td>\n",
       "      <td>0</td>\n",
       "      <td>1987</td>\n",
       "      <td>0</td>\n",
       "      <td>98074</td>\n",
       "      <td>47.6168</td>\n",
       "      <td>-122.045</td>\n",
       "      <td>1800</td>\n",
       "      <td>7503</td>\n",
       "    </tr>\n",
       "  </tbody>\n",
       "</table>\n",
       "<p>5 rows × 21 columns</p>\n",
       "</div>"
      ],
      "text/plain": [
       "           id             date     price  bedrooms  bathrooms  sqft_living  \\\n",
       "0  7129300520  20141013T000000  221900.0         3       1.00         1180   \n",
       "1  6414100192  20141209T000000  538000.0         3       2.25         2570   \n",
       "2  5631500400  20150225T000000  180000.0         2       1.00          770   \n",
       "3  2487200875  20141209T000000  604000.0         4       3.00         1960   \n",
       "4  1954400510  20150218T000000  510000.0         3       2.00         1680   \n",
       "\n",
       "   sqft_lot  floors  waterfront  view     ...      grade  sqft_above  \\\n",
       "0      5650     1.0           0     0     ...          7        1180   \n",
       "1      7242     2.0           0     0     ...          7        2170   \n",
       "2     10000     1.0           0     0     ...          6         770   \n",
       "3      5000     1.0           0     0     ...          7        1050   \n",
       "4      8080     1.0           0     0     ...          8        1680   \n",
       "\n",
       "   sqft_basement  yr_built  yr_renovated  zipcode      lat     long  \\\n",
       "0              0      1955             0    98178  47.5112 -122.257   \n",
       "1            400      1951          1991    98125  47.7210 -122.319   \n",
       "2              0      1933             0    98028  47.7379 -122.233   \n",
       "3            910      1965             0    98136  47.5208 -122.393   \n",
       "4              0      1987             0    98074  47.6168 -122.045   \n",
       "\n",
       "   sqft_living15  sqft_lot15  \n",
       "0           1340        5650  \n",
       "1           1690        7639  \n",
       "2           2720        8062  \n",
       "3           1360        5000  \n",
       "4           1800        7503  \n",
       "\n",
       "[5 rows x 21 columns]"
      ]
     },
     "execution_count": 7,
     "metadata": {},
     "output_type": "execute_result"
    }
   ],
   "source": [
    "data.head()"
   ]
  },
  {
   "cell_type": "code",
   "execution_count": 8,
   "metadata": {},
   "outputs": [],
   "source": [
    "data.drop('id', axis =1, inplace = True)"
   ]
  },
  {
   "cell_type": "code",
   "execution_count": 9,
   "metadata": {},
   "outputs": [
    {
     "data": {
      "text/html": [
       "<div>\n",
       "<style scoped>\n",
       "    .dataframe tbody tr th:only-of-type {\n",
       "        vertical-align: middle;\n",
       "    }\n",
       "\n",
       "    .dataframe tbody tr th {\n",
       "        vertical-align: top;\n",
       "    }\n",
       "\n",
       "    .dataframe thead th {\n",
       "        text-align: right;\n",
       "    }\n",
       "</style>\n",
       "<table border=\"1\" class=\"dataframe\">\n",
       "  <thead>\n",
       "    <tr style=\"text-align: right;\">\n",
       "      <th></th>\n",
       "      <th>date</th>\n",
       "      <th>price</th>\n",
       "      <th>bedrooms</th>\n",
       "      <th>bathrooms</th>\n",
       "      <th>sqft_living</th>\n",
       "      <th>sqft_lot</th>\n",
       "      <th>floors</th>\n",
       "      <th>waterfront</th>\n",
       "      <th>view</th>\n",
       "      <th>condition</th>\n",
       "      <th>grade</th>\n",
       "      <th>sqft_above</th>\n",
       "      <th>sqft_basement</th>\n",
       "      <th>yr_built</th>\n",
       "      <th>yr_renovated</th>\n",
       "      <th>zipcode</th>\n",
       "      <th>lat</th>\n",
       "      <th>long</th>\n",
       "      <th>sqft_living15</th>\n",
       "      <th>sqft_lot15</th>\n",
       "    </tr>\n",
       "  </thead>\n",
       "  <tbody>\n",
       "    <tr>\n",
       "      <th>0</th>\n",
       "      <td>20141013T000000</td>\n",
       "      <td>221900.0</td>\n",
       "      <td>3</td>\n",
       "      <td>1.00</td>\n",
       "      <td>1180</td>\n",
       "      <td>5650</td>\n",
       "      <td>1.0</td>\n",
       "      <td>0</td>\n",
       "      <td>0</td>\n",
       "      <td>3</td>\n",
       "      <td>7</td>\n",
       "      <td>1180</td>\n",
       "      <td>0</td>\n",
       "      <td>1955</td>\n",
       "      <td>0</td>\n",
       "      <td>98178</td>\n",
       "      <td>47.5112</td>\n",
       "      <td>-122.257</td>\n",
       "      <td>1340</td>\n",
       "      <td>5650</td>\n",
       "    </tr>\n",
       "    <tr>\n",
       "      <th>1</th>\n",
       "      <td>20141209T000000</td>\n",
       "      <td>538000.0</td>\n",
       "      <td>3</td>\n",
       "      <td>2.25</td>\n",
       "      <td>2570</td>\n",
       "      <td>7242</td>\n",
       "      <td>2.0</td>\n",
       "      <td>0</td>\n",
       "      <td>0</td>\n",
       "      <td>3</td>\n",
       "      <td>7</td>\n",
       "      <td>2170</td>\n",
       "      <td>400</td>\n",
       "      <td>1951</td>\n",
       "      <td>1991</td>\n",
       "      <td>98125</td>\n",
       "      <td>47.7210</td>\n",
       "      <td>-122.319</td>\n",
       "      <td>1690</td>\n",
       "      <td>7639</td>\n",
       "    </tr>\n",
       "    <tr>\n",
       "      <th>2</th>\n",
       "      <td>20150225T000000</td>\n",
       "      <td>180000.0</td>\n",
       "      <td>2</td>\n",
       "      <td>1.00</td>\n",
       "      <td>770</td>\n",
       "      <td>10000</td>\n",
       "      <td>1.0</td>\n",
       "      <td>0</td>\n",
       "      <td>0</td>\n",
       "      <td>3</td>\n",
       "      <td>6</td>\n",
       "      <td>770</td>\n",
       "      <td>0</td>\n",
       "      <td>1933</td>\n",
       "      <td>0</td>\n",
       "      <td>98028</td>\n",
       "      <td>47.7379</td>\n",
       "      <td>-122.233</td>\n",
       "      <td>2720</td>\n",
       "      <td>8062</td>\n",
       "    </tr>\n",
       "    <tr>\n",
       "      <th>3</th>\n",
       "      <td>20141209T000000</td>\n",
       "      <td>604000.0</td>\n",
       "      <td>4</td>\n",
       "      <td>3.00</td>\n",
       "      <td>1960</td>\n",
       "      <td>5000</td>\n",
       "      <td>1.0</td>\n",
       "      <td>0</td>\n",
       "      <td>0</td>\n",
       "      <td>5</td>\n",
       "      <td>7</td>\n",
       "      <td>1050</td>\n",
       "      <td>910</td>\n",
       "      <td>1965</td>\n",
       "      <td>0</td>\n",
       "      <td>98136</td>\n",
       "      <td>47.5208</td>\n",
       "      <td>-122.393</td>\n",
       "      <td>1360</td>\n",
       "      <td>5000</td>\n",
       "    </tr>\n",
       "    <tr>\n",
       "      <th>4</th>\n",
       "      <td>20150218T000000</td>\n",
       "      <td>510000.0</td>\n",
       "      <td>3</td>\n",
       "      <td>2.00</td>\n",
       "      <td>1680</td>\n",
       "      <td>8080</td>\n",
       "      <td>1.0</td>\n",
       "      <td>0</td>\n",
       "      <td>0</td>\n",
       "      <td>3</td>\n",
       "      <td>8</td>\n",
       "      <td>1680</td>\n",
       "      <td>0</td>\n",
       "      <td>1987</td>\n",
       "      <td>0</td>\n",
       "      <td>98074</td>\n",
       "      <td>47.6168</td>\n",
       "      <td>-122.045</td>\n",
       "      <td>1800</td>\n",
       "      <td>7503</td>\n",
       "    </tr>\n",
       "  </tbody>\n",
       "</table>\n",
       "</div>"
      ],
      "text/plain": [
       "              date     price  bedrooms  bathrooms  sqft_living  sqft_lot  \\\n",
       "0  20141013T000000  221900.0         3       1.00         1180      5650   \n",
       "1  20141209T000000  538000.0         3       2.25         2570      7242   \n",
       "2  20150225T000000  180000.0         2       1.00          770     10000   \n",
       "3  20141209T000000  604000.0         4       3.00         1960      5000   \n",
       "4  20150218T000000  510000.0         3       2.00         1680      8080   \n",
       "\n",
       "   floors  waterfront  view  condition  grade  sqft_above  sqft_basement  \\\n",
       "0     1.0           0     0          3      7        1180              0   \n",
       "1     2.0           0     0          3      7        2170            400   \n",
       "2     1.0           0     0          3      6         770              0   \n",
       "3     1.0           0     0          5      7        1050            910   \n",
       "4     1.0           0     0          3      8        1680              0   \n",
       "\n",
       "   yr_built  yr_renovated  zipcode      lat     long  sqft_living15  \\\n",
       "0      1955             0    98178  47.5112 -122.257           1340   \n",
       "1      1951          1991    98125  47.7210 -122.319           1690   \n",
       "2      1933             0    98028  47.7379 -122.233           2720   \n",
       "3      1965             0    98136  47.5208 -122.393           1360   \n",
       "4      1987             0    98074  47.6168 -122.045           1800   \n",
       "\n",
       "   sqft_lot15  \n",
       "0        5650  \n",
       "1        7639  \n",
       "2        8062  \n",
       "3        5000  \n",
       "4        7503  "
      ]
     },
     "execution_count": 9,
     "metadata": {},
     "output_type": "execute_result"
    }
   ],
   "source": [
    "data.head()"
   ]
  },
  {
   "cell_type": "code",
   "execution_count": 10,
   "metadata": {},
   "outputs": [],
   "source": [
    "data.drop('date', axis =1, inplace = True)"
   ]
  },
  {
   "cell_type": "code",
   "execution_count": 11,
   "metadata": {},
   "outputs": [
    {
     "data": {
      "text/html": [
       "<div>\n",
       "<style scoped>\n",
       "    .dataframe tbody tr th:only-of-type {\n",
       "        vertical-align: middle;\n",
       "    }\n",
       "\n",
       "    .dataframe tbody tr th {\n",
       "        vertical-align: top;\n",
       "    }\n",
       "\n",
       "    .dataframe thead th {\n",
       "        text-align: right;\n",
       "    }\n",
       "</style>\n",
       "<table border=\"1\" class=\"dataframe\">\n",
       "  <thead>\n",
       "    <tr style=\"text-align: right;\">\n",
       "      <th></th>\n",
       "      <th>price</th>\n",
       "      <th>bedrooms</th>\n",
       "      <th>bathrooms</th>\n",
       "      <th>sqft_living</th>\n",
       "      <th>sqft_lot</th>\n",
       "      <th>floors</th>\n",
       "      <th>waterfront</th>\n",
       "      <th>view</th>\n",
       "      <th>condition</th>\n",
       "      <th>grade</th>\n",
       "      <th>sqft_above</th>\n",
       "      <th>sqft_basement</th>\n",
       "      <th>yr_built</th>\n",
       "      <th>yr_renovated</th>\n",
       "      <th>zipcode</th>\n",
       "      <th>lat</th>\n",
       "      <th>long</th>\n",
       "      <th>sqft_living15</th>\n",
       "      <th>sqft_lot15</th>\n",
       "    </tr>\n",
       "  </thead>\n",
       "  <tbody>\n",
       "    <tr>\n",
       "      <th>0</th>\n",
       "      <td>221900.0</td>\n",
       "      <td>3</td>\n",
       "      <td>1.00</td>\n",
       "      <td>1180</td>\n",
       "      <td>5650</td>\n",
       "      <td>1.0</td>\n",
       "      <td>0</td>\n",
       "      <td>0</td>\n",
       "      <td>3</td>\n",
       "      <td>7</td>\n",
       "      <td>1180</td>\n",
       "      <td>0</td>\n",
       "      <td>1955</td>\n",
       "      <td>0</td>\n",
       "      <td>98178</td>\n",
       "      <td>47.5112</td>\n",
       "      <td>-122.257</td>\n",
       "      <td>1340</td>\n",
       "      <td>5650</td>\n",
       "    </tr>\n",
       "    <tr>\n",
       "      <th>1</th>\n",
       "      <td>538000.0</td>\n",
       "      <td>3</td>\n",
       "      <td>2.25</td>\n",
       "      <td>2570</td>\n",
       "      <td>7242</td>\n",
       "      <td>2.0</td>\n",
       "      <td>0</td>\n",
       "      <td>0</td>\n",
       "      <td>3</td>\n",
       "      <td>7</td>\n",
       "      <td>2170</td>\n",
       "      <td>400</td>\n",
       "      <td>1951</td>\n",
       "      <td>1991</td>\n",
       "      <td>98125</td>\n",
       "      <td>47.7210</td>\n",
       "      <td>-122.319</td>\n",
       "      <td>1690</td>\n",
       "      <td>7639</td>\n",
       "    </tr>\n",
       "    <tr>\n",
       "      <th>2</th>\n",
       "      <td>180000.0</td>\n",
       "      <td>2</td>\n",
       "      <td>1.00</td>\n",
       "      <td>770</td>\n",
       "      <td>10000</td>\n",
       "      <td>1.0</td>\n",
       "      <td>0</td>\n",
       "      <td>0</td>\n",
       "      <td>3</td>\n",
       "      <td>6</td>\n",
       "      <td>770</td>\n",
       "      <td>0</td>\n",
       "      <td>1933</td>\n",
       "      <td>0</td>\n",
       "      <td>98028</td>\n",
       "      <td>47.7379</td>\n",
       "      <td>-122.233</td>\n",
       "      <td>2720</td>\n",
       "      <td>8062</td>\n",
       "    </tr>\n",
       "    <tr>\n",
       "      <th>3</th>\n",
       "      <td>604000.0</td>\n",
       "      <td>4</td>\n",
       "      <td>3.00</td>\n",
       "      <td>1960</td>\n",
       "      <td>5000</td>\n",
       "      <td>1.0</td>\n",
       "      <td>0</td>\n",
       "      <td>0</td>\n",
       "      <td>5</td>\n",
       "      <td>7</td>\n",
       "      <td>1050</td>\n",
       "      <td>910</td>\n",
       "      <td>1965</td>\n",
       "      <td>0</td>\n",
       "      <td>98136</td>\n",
       "      <td>47.5208</td>\n",
       "      <td>-122.393</td>\n",
       "      <td>1360</td>\n",
       "      <td>5000</td>\n",
       "    </tr>\n",
       "    <tr>\n",
       "      <th>4</th>\n",
       "      <td>510000.0</td>\n",
       "      <td>3</td>\n",
       "      <td>2.00</td>\n",
       "      <td>1680</td>\n",
       "      <td>8080</td>\n",
       "      <td>1.0</td>\n",
       "      <td>0</td>\n",
       "      <td>0</td>\n",
       "      <td>3</td>\n",
       "      <td>8</td>\n",
       "      <td>1680</td>\n",
       "      <td>0</td>\n",
       "      <td>1987</td>\n",
       "      <td>0</td>\n",
       "      <td>98074</td>\n",
       "      <td>47.6168</td>\n",
       "      <td>-122.045</td>\n",
       "      <td>1800</td>\n",
       "      <td>7503</td>\n",
       "    </tr>\n",
       "  </tbody>\n",
       "</table>\n",
       "</div>"
      ],
      "text/plain": [
       "      price  bedrooms  bathrooms  sqft_living  sqft_lot  floors  waterfront  \\\n",
       "0  221900.0         3       1.00         1180      5650     1.0           0   \n",
       "1  538000.0         3       2.25         2570      7242     2.0           0   \n",
       "2  180000.0         2       1.00          770     10000     1.0           0   \n",
       "3  604000.0         4       3.00         1960      5000     1.0           0   \n",
       "4  510000.0         3       2.00         1680      8080     1.0           0   \n",
       "\n",
       "   view  condition  grade  sqft_above  sqft_basement  yr_built  yr_renovated  \\\n",
       "0     0          3      7        1180              0      1955             0   \n",
       "1     0          3      7        2170            400      1951          1991   \n",
       "2     0          3      6         770              0      1933             0   \n",
       "3     0          5      7        1050            910      1965             0   \n",
       "4     0          3      8        1680              0      1987             0   \n",
       "\n",
       "   zipcode      lat     long  sqft_living15  sqft_lot15  \n",
       "0    98178  47.5112 -122.257           1340        5650  \n",
       "1    98125  47.7210 -122.319           1690        7639  \n",
       "2    98028  47.7379 -122.233           2720        8062  \n",
       "3    98136  47.5208 -122.393           1360        5000  \n",
       "4    98074  47.6168 -122.045           1800        7503  "
      ]
     },
     "execution_count": 11,
     "metadata": {},
     "output_type": "execute_result"
    }
   ],
   "source": [
    "data.head()"
   ]
  },
  {
   "cell_type": "code",
   "execution_count": 12,
   "metadata": {},
   "outputs": [
    {
     "data": {
      "text/plain": [
       "(21613, 19)"
      ]
     },
     "execution_count": 12,
     "metadata": {},
     "output_type": "execute_result"
    }
   ],
   "source": [
    "data.shape"
   ]
  },
  {
   "cell_type": "code",
   "execution_count": 17,
   "metadata": {},
   "outputs": [],
   "source": [
    "x = data.drop('price', axis = 1)\n",
    "y = data[['price']]"
   ]
  },
  {
   "cell_type": "code",
   "execution_count": 18,
   "metadata": {},
   "outputs": [
    {
     "data": {
      "text/html": [
       "<div>\n",
       "<style scoped>\n",
       "    .dataframe tbody tr th:only-of-type {\n",
       "        vertical-align: middle;\n",
       "    }\n",
       "\n",
       "    .dataframe tbody tr th {\n",
       "        vertical-align: top;\n",
       "    }\n",
       "\n",
       "    .dataframe thead th {\n",
       "        text-align: right;\n",
       "    }\n",
       "</style>\n",
       "<table border=\"1\" class=\"dataframe\">\n",
       "  <thead>\n",
       "    <tr style=\"text-align: right;\">\n",
       "      <th></th>\n",
       "      <th>bedrooms</th>\n",
       "      <th>bathrooms</th>\n",
       "      <th>sqft_living</th>\n",
       "      <th>sqft_lot</th>\n",
       "      <th>floors</th>\n",
       "      <th>waterfront</th>\n",
       "      <th>view</th>\n",
       "      <th>condition</th>\n",
       "      <th>grade</th>\n",
       "      <th>sqft_above</th>\n",
       "      <th>sqft_basement</th>\n",
       "      <th>yr_built</th>\n",
       "      <th>yr_renovated</th>\n",
       "      <th>zipcode</th>\n",
       "      <th>lat</th>\n",
       "      <th>long</th>\n",
       "      <th>sqft_living15</th>\n",
       "      <th>sqft_lot15</th>\n",
       "    </tr>\n",
       "  </thead>\n",
       "  <tbody>\n",
       "    <tr>\n",
       "      <th>0</th>\n",
       "      <td>3</td>\n",
       "      <td>1.00</td>\n",
       "      <td>1180</td>\n",
       "      <td>5650</td>\n",
       "      <td>1.0</td>\n",
       "      <td>0</td>\n",
       "      <td>0</td>\n",
       "      <td>3</td>\n",
       "      <td>7</td>\n",
       "      <td>1180</td>\n",
       "      <td>0</td>\n",
       "      <td>1955</td>\n",
       "      <td>0</td>\n",
       "      <td>98178</td>\n",
       "      <td>47.5112</td>\n",
       "      <td>-122.257</td>\n",
       "      <td>1340</td>\n",
       "      <td>5650</td>\n",
       "    </tr>\n",
       "    <tr>\n",
       "      <th>1</th>\n",
       "      <td>3</td>\n",
       "      <td>2.25</td>\n",
       "      <td>2570</td>\n",
       "      <td>7242</td>\n",
       "      <td>2.0</td>\n",
       "      <td>0</td>\n",
       "      <td>0</td>\n",
       "      <td>3</td>\n",
       "      <td>7</td>\n",
       "      <td>2170</td>\n",
       "      <td>400</td>\n",
       "      <td>1951</td>\n",
       "      <td>1991</td>\n",
       "      <td>98125</td>\n",
       "      <td>47.7210</td>\n",
       "      <td>-122.319</td>\n",
       "      <td>1690</td>\n",
       "      <td>7639</td>\n",
       "    </tr>\n",
       "  </tbody>\n",
       "</table>\n",
       "</div>"
      ],
      "text/plain": [
       "   bedrooms  bathrooms  sqft_living  sqft_lot  floors  waterfront  view  \\\n",
       "0         3       1.00         1180      5650     1.0           0     0   \n",
       "1         3       2.25         2570      7242     2.0           0     0   \n",
       "\n",
       "   condition  grade  sqft_above  sqft_basement  yr_built  yr_renovated  \\\n",
       "0          3      7        1180              0      1955             0   \n",
       "1          3      7        2170            400      1951          1991   \n",
       "\n",
       "   zipcode      lat     long  sqft_living15  sqft_lot15  \n",
       "0    98178  47.5112 -122.257           1340        5650  \n",
       "1    98125  47.7210 -122.319           1690        7639  "
      ]
     },
     "execution_count": 18,
     "metadata": {},
     "output_type": "execute_result"
    }
   ],
   "source": [
    "x.head(2)"
   ]
  },
  {
   "cell_type": "code",
   "execution_count": 19,
   "metadata": {},
   "outputs": [
    {
     "data": {
      "text/html": [
       "<div>\n",
       "<style scoped>\n",
       "    .dataframe tbody tr th:only-of-type {\n",
       "        vertical-align: middle;\n",
       "    }\n",
       "\n",
       "    .dataframe tbody tr th {\n",
       "        vertical-align: top;\n",
       "    }\n",
       "\n",
       "    .dataframe thead th {\n",
       "        text-align: right;\n",
       "    }\n",
       "</style>\n",
       "<table border=\"1\" class=\"dataframe\">\n",
       "  <thead>\n",
       "    <tr style=\"text-align: right;\">\n",
       "      <th></th>\n",
       "      <th>price</th>\n",
       "    </tr>\n",
       "  </thead>\n",
       "  <tbody>\n",
       "    <tr>\n",
       "      <th>0</th>\n",
       "      <td>221900.0</td>\n",
       "    </tr>\n",
       "    <tr>\n",
       "      <th>1</th>\n",
       "      <td>538000.0</td>\n",
       "    </tr>\n",
       "    <tr>\n",
       "      <th>2</th>\n",
       "      <td>180000.0</td>\n",
       "    </tr>\n",
       "    <tr>\n",
       "      <th>3</th>\n",
       "      <td>604000.0</td>\n",
       "    </tr>\n",
       "    <tr>\n",
       "      <th>4</th>\n",
       "      <td>510000.0</td>\n",
       "    </tr>\n",
       "  </tbody>\n",
       "</table>\n",
       "</div>"
      ],
      "text/plain": [
       "      price\n",
       "0  221900.0\n",
       "1  538000.0\n",
       "2  180000.0\n",
       "3  604000.0\n",
       "4  510000.0"
      ]
     },
     "execution_count": 19,
     "metadata": {},
     "output_type": "execute_result"
    }
   ],
   "source": [
    "y.head()"
   ]
  },
  {
   "cell_type": "code",
   "execution_count": 20,
   "metadata": {},
   "outputs": [],
   "source": [
    "x_train, x_test, y_train, y_test = train_test_split(x, y, test_size = 0.30, random_state = 1)"
   ]
  },
  {
   "cell_type": "markdown",
   "metadata": {
    "collapsed": true
   },
   "source": [
    "# Linear Regression"
   ]
  },
  {
   "cell_type": "code",
   "execution_count": 21,
   "metadata": {},
   "outputs": [
    {
     "name": "stdout",
     "output_type": "stream",
     "text": [
      "Training dataset shape: (15129, 18) (15129, 1)\n",
      "Testing dataset shape: (6484, 18) (6484, 1)\n"
     ]
    }
   ],
   "source": [
    "print('Training dataset shape:', x_train.shape, y_train.shape)\n",
    "print('Testing dataset shape:', x_test.shape, y_test.shape)"
   ]
  },
  {
   "cell_type": "code",
   "execution_count": 22,
   "metadata": {},
   "outputs": [],
   "source": [
    "# Build Lin Reg  to use in feature selection\n",
    "linR = LinearRegression()"
   ]
  },
  {
   "cell_type": "code",
   "execution_count": 23,
   "metadata": {},
   "outputs": [],
   "source": [
    "# Build step forward feature selection\n",
    "sfs1 = sfs(linR, k_features=18, forward=True, scoring='r2', cv=5)"
   ]
  },
  {
   "cell_type": "code",
   "execution_count": 24,
   "metadata": {},
   "outputs": [],
   "source": [
    "# Perform SFFS\n",
    "sfs1 = sfs1.fit(x_train.values, y_train.values)"
   ]
  },
  {
   "cell_type": "code",
   "execution_count": 25,
   "metadata": {},
   "outputs": [
    {
     "data": {
      "text/plain": [
       "{1: {'feature_idx': (2,),\n",
       "  'cv_scores': array([0.48175174, 0.47656766, 0.45951105, 0.51305393, 0.49574751]),\n",
       "  'avg_score': 0.48532638089541874,\n",
       "  'feature_names': ('2',),\n",
       "  'ci_bound': 0.02323030772061808,\n",
       "  'std_dev': 0.018073968616545293,\n",
       "  'std_err': 0.009036984308272647},\n",
       " 2: {'feature_idx': (2, 14),\n",
       "  'cv_scores': array([0.57471031, 0.55639929, 0.56054716, 0.58171282, 0.56154082]),\n",
       "  'avg_score': 0.5669820789082498,\n",
       "  'feature_names': ('2', '14'),\n",
       "  'ci_bound': 0.01232447323592124,\n",
       "  'std_dev': 0.009588858880409452,\n",
       "  'std_err': 0.004794429440204725},\n",
       " 3: {'feature_idx': (2, 6, 14),\n",
       "  'cv_scores': array([0.62211098, 0.60780624, 0.60248249, 0.61743273, 0.60269864]),\n",
       "  'avg_score': 0.61050621550156,\n",
       "  'feature_names': ('2', '6', '14'),\n",
       "  'ci_bound': 0.0102061400016495,\n",
       "  'std_dev': 0.007940723657403736,\n",
       "  'std_err': 0.003970361828701867},\n",
       " 4: {'feature_idx': (2, 6, 8, 14),\n",
       "  'cv_scores': array([0.65049895, 0.63031676, 0.63835305, 0.64232319, 0.63144473]),\n",
       "  'avg_score': 0.6385873349848508,\n",
       "  'feature_names': ('2', '6', '8', '14'),\n",
       "  'ci_bound': 0.009537471287810104,\n",
       "  'std_dev': 0.007420476681162759,\n",
       "  'std_err': 0.003710238340581379},\n",
       " 5: {'feature_idx': (2, 6, 8, 11, 14),\n",
       "  'cv_scores': array([0.68226244, 0.65461601, 0.67746208, 0.67455416, 0.66304809]),\n",
       "  'avg_score': 0.6703885543013719,\n",
       "  'feature_names': ('2', '6', '8', '11', '14'),\n",
       "  'ci_bound': 0.012993925475958982,\n",
       "  'std_dev': 0.0101097154666517,\n",
       "  'std_err': 0.00505485773332585},\n",
       " 6: {'feature_idx': (2, 5, 6, 8, 11, 14),\n",
       "  'cv_scores': array([0.7025712 , 0.67342518, 0.69010811, 0.6825042 , 0.69011749]),\n",
       "  'avg_score': 0.6877452351627411,\n",
       "  'feature_names': ('2', '5', '6', '8', '11', '14'),\n",
       "  'ci_bound': 0.012375586802717902,\n",
       "  'std_dev': 0.009628626971873113,\n",
       "  'std_err': 0.004814313485936556},\n",
       " 7: {'feature_idx': (0, 2, 5, 6, 8, 11, 14),\n",
       "  'cv_scores': array([0.70510323, 0.67762288, 0.69262009, 0.68594581, 0.69080852]),\n",
       "  'avg_score': 0.6904201049992091,\n",
       "  'feature_names': ('0', '2', '5', '6', '8', '11', '14'),\n",
       "  'ci_bound': 0.011558664863279366,\n",
       "  'std_dev': 0.008993033949466666,\n",
       "  'std_err': 0.004496516974733334},\n",
       " 8: {'feature_idx': (0, 1, 2, 5, 6, 8, 11, 14),\n",
       "  'cv_scores': array([0.70870805, 0.68010406, 0.69629239, 0.68889881, 0.69289291]),\n",
       "  'avg_score': 0.6933792443434506,\n",
       "  'feature_names': ('0', '1', '2', '5', '6', '8', '11', '14'),\n",
       "  'ci_bound': 0.012057099623822932,\n",
       "  'std_dev': 0.009380833126636587,\n",
       "  'std_err': 0.004690416563318293},\n",
       " 9: {'feature_idx': (0, 1, 2, 5, 6, 8, 11, 13, 14),\n",
       "  'cv_scores': array([0.70838182, 0.68220635, 0.70051347, 0.69236495, 0.69559542]),\n",
       "  'avg_score': 0.6958124033753428,\n",
       "  'feature_names': ('0', '1', '2', '5', '6', '8', '11', '13', '14'),\n",
       "  'ci_bound': 0.011162765415618676,\n",
       "  'std_dev': 0.00868501072918121,\n",
       "  'std_err': 0.004342505364590605},\n",
       " 10: {'feature_idx': (0, 1, 2, 5, 6, 8, 11, 13, 14, 15),\n",
       "  'cv_scores': array([0.71225383, 0.68625009, 0.70446213, 0.69482259, 0.69756222]),\n",
       "  'avg_score': 0.6990701724343382,\n",
       "  'feature_names': ('0', '1', '2', '5', '6', '8', '11', '13', '14', '15'),\n",
       "  'ci_bound': 0.011315707753104646,\n",
       "  'std_dev': 0.008804005063699175,\n",
       "  'std_err': 0.004402002531849587},\n",
       " 11: {'feature_idx': (0, 1, 2, 5, 6, 7, 8, 11, 13, 14, 15),\n",
       "  'cv_scores': array([0.71388061, 0.68686463, 0.70568535, 0.69658602, 0.69818603]),\n",
       "  'avg_score': 0.7002405266394865,\n",
       "  'feature_names': ('0', '1', '2', '5', '6', '7', '8', '11', '13', '14', '15'),\n",
       "  'ci_bound': 0.011669830788826123,\n",
       "  'std_dev': 0.009079524816213906,\n",
       "  'std_err': 0.004539762408106953},\n",
       " 12: {'feature_idx': (0, 1, 2, 5, 6, 7, 8, 9, 11, 13, 14, 15),\n",
       "  'cv_scores': array([0.71718464, 0.68710376, 0.70617557, 0.69814667, 0.70011376]),\n",
       "  'avg_score': 0.7017448809257678,\n",
       "  'feature_names': ('0',\n",
       "   '1',\n",
       "   '2',\n",
       "   '5',\n",
       "   '6',\n",
       "   '7',\n",
       "   '8',\n",
       "   '9',\n",
       "   '11',\n",
       "   '13',\n",
       "   '14',\n",
       "   '15'),\n",
       "  'ci_bound': 0.012697573916534768,\n",
       "  'std_dev': 0.00987914388538317,\n",
       "  'std_err': 0.004939571942691584},\n",
       " 13: {'feature_idx': (0, 1, 2, 5, 6, 7, 8, 9, 11, 13, 14, 15, 17),\n",
       "  'cv_scores': array([0.71786353, 0.68715232, 0.7064594 , 0.69858209, 0.69990845]),\n",
       "  'avg_score': 0.7019931558811852,\n",
       "  'feature_names': ('0',\n",
       "   '1',\n",
       "   '2',\n",
       "   '5',\n",
       "   '6',\n",
       "   '7',\n",
       "   '8',\n",
       "   '9',\n",
       "   '11',\n",
       "   '13',\n",
       "   '14',\n",
       "   '15',\n",
       "   '17'),\n",
       "  'ci_bound': 0.012955935372181373,\n",
       "  'std_dev': 0.010080157875264034,\n",
       "  'std_err': 0.005040078937632016},\n",
       " 14: {'feature_idx': (0, 1, 2, 5, 6, 7, 8, 9, 11, 13, 14, 15, 16, 17),\n",
       "  'cv_scores': array([0.7175527 , 0.68802081, 0.70729125, 0.69869708, 0.69954673]),\n",
       "  'avg_score': 0.7022217135368833,\n",
       "  'feature_names': ('0',\n",
       "   '1',\n",
       "   '2',\n",
       "   '5',\n",
       "   '6',\n",
       "   '7',\n",
       "   '8',\n",
       "   '9',\n",
       "   '11',\n",
       "   '13',\n",
       "   '14',\n",
       "   '15',\n",
       "   '16',\n",
       "   '17'),\n",
       "  'ci_bound': 0.012619223978977162,\n",
       "  'std_dev': 0.009818184972158459,\n",
       "  'std_err': 0.004909092486079229},\n",
       " 15: {'feature_idx': (0, 1, 2, 5, 6, 7, 8, 9, 11, 12, 13, 14, 15, 16, 17),\n",
       "  'cv_scores': array([0.71747025, 0.68936484, 0.70736159, 0.69758584, 0.70057937]),\n",
       "  'avg_score': 0.702472378300789,\n",
       "  'feature_names': ('0',\n",
       "   '1',\n",
       "   '2',\n",
       "   '5',\n",
       "   '6',\n",
       "   '7',\n",
       "   '8',\n",
       "   '9',\n",
       "   '11',\n",
       "   '12',\n",
       "   '13',\n",
       "   '14',\n",
       "   '15',\n",
       "   '16',\n",
       "   '17'),\n",
       "  'ci_bound': 0.012167702398839552,\n",
       "  'std_dev': 0.009466885843139304,\n",
       "  'std_err': 0.004733442921569651},\n",
       " 16: {'feature_idx': (0, 1, 2, 4, 5, 6, 7, 8, 9, 11, 12, 13, 14, 15, 16, 17),\n",
       "  'cv_scores': array([0.71756799, 0.68958031, 0.70724119, 0.69779   , 0.7005189 ]),\n",
       "  'avg_score': 0.702539675779336,\n",
       "  'feature_names': ('0',\n",
       "   '1',\n",
       "   '2',\n",
       "   '4',\n",
       "   '5',\n",
       "   '6',\n",
       "   '7',\n",
       "   '8',\n",
       "   '9',\n",
       "   '11',\n",
       "   '12',\n",
       "   '13',\n",
       "   '14',\n",
       "   '15',\n",
       "   '16',\n",
       "   '17'),\n",
       "  'ci_bound': 0.012091882834707234,\n",
       "  'std_dev': 0.009407895646404568,\n",
       "  'std_err': 0.004703947823202284},\n",
       " 17: {'feature_idx': (0,\n",
       "   1,\n",
       "   2,\n",
       "   3,\n",
       "   4,\n",
       "   5,\n",
       "   6,\n",
       "   7,\n",
       "   8,\n",
       "   9,\n",
       "   11,\n",
       "   12,\n",
       "   13,\n",
       "   14,\n",
       "   15,\n",
       "   16,\n",
       "   17),\n",
       "  'cv_scores': array([0.7176293 , 0.68944833, 0.70746008, 0.69795495, 0.70041083]),\n",
       "  'avg_score': 0.7025806985340839,\n",
       "  'feature_names': ('0',\n",
       "   '1',\n",
       "   '2',\n",
       "   '3',\n",
       "   '4',\n",
       "   '5',\n",
       "   '6',\n",
       "   '7',\n",
       "   '8',\n",
       "   '9',\n",
       "   '11',\n",
       "   '12',\n",
       "   '13',\n",
       "   '14',\n",
       "   '15',\n",
       "   '16',\n",
       "   '17'),\n",
       "  'ci_bound': 0.012177529528078924,\n",
       "  'std_dev': 0.009474531683547413,\n",
       "  'std_err': 0.004737265841773706},\n",
       " 18: {'feature_idx': (0,\n",
       "   1,\n",
       "   2,\n",
       "   3,\n",
       "   4,\n",
       "   5,\n",
       "   6,\n",
       "   7,\n",
       "   8,\n",
       "   9,\n",
       "   10,\n",
       "   11,\n",
       "   12,\n",
       "   13,\n",
       "   14,\n",
       "   15,\n",
       "   16,\n",
       "   17),\n",
       "  'cv_scores': array([0.7176293 , 0.68944833, 0.70746008, 0.69795495, 0.70041083]),\n",
       "  'avg_score': 0.7025806985340779,\n",
       "  'feature_names': ('0',\n",
       "   '1',\n",
       "   '2',\n",
       "   '3',\n",
       "   '4',\n",
       "   '5',\n",
       "   '6',\n",
       "   '7',\n",
       "   '8',\n",
       "   '9',\n",
       "   '10',\n",
       "   '11',\n",
       "   '12',\n",
       "   '13',\n",
       "   '14',\n",
       "   '15',\n",
       "   '16',\n",
       "   '17'),\n",
       "  'ci_bound': 0.012177529528060643,\n",
       "  'std_dev': 0.009474531683533188,\n",
       "  'std_err': 0.004737265841766595}}"
      ]
     },
     "execution_count": 25,
     "metadata": {},
     "output_type": "execute_result"
    }
   ],
   "source": [
    "sfs1.get_metric_dict()"
   ]
  },
  {
   "cell_type": "code",
   "execution_count": 26,
   "metadata": {},
   "outputs": [],
   "source": [
    "from mlxtend.plotting import plot_sequential_feature_selection as plot_sfs\n",
    "import matplotlib.pyplot as plt"
   ]
  },
  {
   "cell_type": "code",
   "execution_count": 27,
   "metadata": {},
   "outputs": [
    {
     "data": {
      "image/png": "[encoded data removed]",
      "text/plain": [
       "<Figure size 432x288 with 1 Axes>"
      ]
     },
     "metadata": {
      "needs_background": "light"
     },
     "output_type": "display_data"
    }
   ],
   "source": [
    "fig = plot_sfs(sfs1.get_metric_dict())\n",
    "\n",
    "plt.title('Sequential Forward Selection (w. R^2)')\n",
    "plt.grid()\n",
    "plt.show()"
   ]
  },
  {
   "cell_type": "code",
   "execution_count": 28,
   "metadata": {},
   "outputs": [
    {
     "name": "stdout",
     "output_type": "stream",
     "text": [
      "[0, 1, 2, 3, 4, 5, 6, 7, 8, 9, 10, 11, 12, 13, 14, 15, 16, 17]\n"
     ]
    }
   ],
   "source": [
    "columnList = list(x_train.columns)\n",
    "feat_cols = list(sfs1.k_feature_idx_)\n",
    "print(feat_cols)"
   ]
  },
  {
   "cell_type": "code",
   "execution_count": 29,
   "metadata": {},
   "outputs": [
    {
     "name": "stdout",
     "output_type": "stream",
     "text": [
      "['bedrooms', 'bathrooms', 'sqft_living', 'sqft_lot', 'floors', 'waterfront', 'view', 'condition', 'grade', 'sqft_above', 'sqft_basement', 'yr_built', 'yr_renovated', 'zipcode', 'lat', 'long', 'sqft_living15', 'sqft_lot15']\n"
     ]
    }
   ],
   "source": [
    "subsetColumnList = [columnList[i] for i in feat_cols] \n",
    "print(subsetColumnList)"
   ]
  },
  {
   "cell_type": "markdown",
   "metadata": {},
   "source": [
    "# Building Full Model on All Features"
   ]
  },
  {
   "cell_type": "code",
   "execution_count": 30,
   "metadata": {},
   "outputs": [
    {
     "data": {
      "text/plain": [
       "LinearRegression(copy_X=True, fit_intercept=True, n_jobs=None,\n",
       "         normalize=False)"
      ]
     },
     "execution_count": 30,
     "metadata": {},
     "output_type": "execute_result"
    }
   ],
   "source": [
    "linR = LinearRegression()\n",
    "linR.fit(x_train[subsetColumnList], y_train)"
   ]
  },
  {
   "cell_type": "code",
   "execution_count": 31,
   "metadata": {},
   "outputs": [
    {
     "name": "stdout",
     "output_type": "stream",
     "text": [
      "Training accuracy on selected features: 0.704\n"
     ]
    }
   ],
   "source": [
    "y_train_pred = linR.predict(x_train[subsetColumnList])\n",
    "print('Training accuracy on selected features: %.3f' % linR.score(x_train[subsetColumnList], y_train))"
   ]
  },
  {
   "cell_type": "code",
   "execution_count": 32,
   "metadata": {},
   "outputs": [
    {
     "name": "stdout",
     "output_type": "stream",
     "text": [
      "Testing accuracy on selected features: 0.691\n"
     ]
    }
   ],
   "source": [
    "y_test_pred = linR.predict(x_test[subsetColumnList])\n",
    "print('Testing accuracy on selected features: %.3f' % linR.score(x_test[subsetColumnList], y_test))"
   ]
  },
  {
   "cell_type": "markdown",
   "metadata": {},
   "source": [
    "# Building model with 10 selected features"
   ]
  },
  {
   "cell_type": "code",
   "execution_count": 33,
   "metadata": {},
   "outputs": [],
   "source": [
    "# Build step forward feature selection\n",
    "sfs2 = sfs(linR, k_features=10, forward=True, scoring='r2', cv=5)"
   ]
  },
  {
   "cell_type": "code",
   "execution_count": 34,
   "metadata": {},
   "outputs": [],
   "source": [
    "# Perform SFFS\n",
    "sfs2 = sfs2.fit(x_train.values, y_train.values)"
   ]
  },
  {
   "cell_type": "code",
   "execution_count": 35,
   "metadata": {},
   "outputs": [
    {
     "data": {
      "text/plain": [
       "{1: {'feature_idx': (2,),\n",
       "  'cv_scores': array([0.48175174, 0.47656766, 0.45951105, 0.51305393, 0.49574751]),\n",
       "  'avg_score': 0.48532638089541874,\n",
       "  'feature_names': ('2',),\n",
       "  'ci_bound': 0.02323030772061808,\n",
       "  'std_dev': 0.018073968616545293,\n",
       "  'std_err': 0.009036984308272647},\n",
       " 2: {'feature_idx': (2, 14),\n",
       "  'cv_scores': array([0.57471031, 0.55639929, 0.56054716, 0.58171282, 0.56154082]),\n",
       "  'avg_score': 0.5669820789082498,\n",
       "  'feature_names': ('2', '14'),\n",
       "  'ci_bound': 0.01232447323592124,\n",
       "  'std_dev': 0.009588858880409452,\n",
       "  'std_err': 0.004794429440204725},\n",
       " 3: {'feature_idx': (2, 6, 14),\n",
       "  'cv_scores': array([0.62211098, 0.60780624, 0.60248249, 0.61743273, 0.60269864]),\n",
       "  'avg_score': 0.61050621550156,\n",
       "  'feature_names': ('2', '6', '14'),\n",
       "  'ci_bound': 0.0102061400016495,\n",
       "  'std_dev': 0.007940723657403736,\n",
       "  'std_err': 0.003970361828701867},\n",
       " 4: {'feature_idx': (2, 6, 8, 14),\n",
       "  'cv_scores': array([0.65049895, 0.63031676, 0.63835305, 0.64232319, 0.63144473]),\n",
       "  'avg_score': 0.6385873349848508,\n",
       "  'feature_names': ('2', '6', '8', '14'),\n",
       "  'ci_bound': 0.009537471287810104,\n",
       "  'std_dev': 0.007420476681162759,\n",
       "  'std_err': 0.003710238340581379},\n",
       " 5: {'feature_idx': (2, 6, 8, 11, 14),\n",
       "  'cv_scores': array([0.68226244, 0.65461601, 0.67746208, 0.67455416, 0.66304809]),\n",
       "  'avg_score': 0.6703885543013719,\n",
       "  'feature_names': ('2', '6', '8', '11', '14'),\n",
       "  'ci_bound': 0.012993925475958982,\n",
       "  'std_dev': 0.0101097154666517,\n",
       "  'std_err': 0.00505485773332585},\n",
       " 6: {'feature_idx': (2, 5, 6, 8, 11, 14),\n",
       "  'cv_scores': array([0.7025712 , 0.67342518, 0.69010811, 0.6825042 , 0.69011749]),\n",
       "  'avg_score': 0.6877452351627411,\n",
       "  'feature_names': ('2', '5', '6', '8', '11', '14'),\n",
       "  'ci_bound': 0.012375586802717902,\n",
       "  'std_dev': 0.009628626971873113,\n",
       "  'std_err': 0.004814313485936556},\n",
       " 7: {'feature_idx': (0, 2, 5, 6, 8, 11, 14),\n",
       "  'cv_scores': array([0.70510323, 0.67762288, 0.69262009, 0.68594581, 0.69080852]),\n",
       "  'avg_score': 0.6904201049992091,\n",
       "  'feature_names': ('0', '2', '5', '6', '8', '11', '14'),\n",
       "  'ci_bound': 0.011558664863279366,\n",
       "  'std_dev': 0.008993033949466666,\n",
       "  'std_err': 0.004496516974733334},\n",
       " 8: {'feature_idx': (0, 1, 2, 5, 6, 8, 11, 14),\n",
       "  'cv_scores': array([0.70870805, 0.68010406, 0.69629239, 0.68889881, 0.69289291]),\n",
       "  'avg_score': 0.6933792443434506,\n",
       "  'feature_names': ('0', '1', '2', '5', '6', '8', '11', '14'),\n",
       "  'ci_bound': 0.012057099623822932,\n",
       "  'std_dev': 0.009380833126636587,\n",
       "  'std_err': 0.004690416563318293},\n",
       " 9: {'feature_idx': (0, 1, 2, 5, 6, 8, 11, 13, 14),\n",
       "  'cv_scores': array([0.70838182, 0.68220635, 0.70051347, 0.69236495, 0.69559542]),\n",
       "  'avg_score': 0.6958124033753428,\n",
       "  'feature_names': ('0', '1', '2', '5', '6', '8', '11', '13', '14'),\n",
       "  'ci_bound': 0.011162765415618676,\n",
       "  'std_dev': 0.00868501072918121,\n",
       "  'std_err': 0.004342505364590605},\n",
       " 10: {'feature_idx': (0, 1, 2, 5, 6, 8, 11, 13, 14, 15),\n",
       "  'cv_scores': array([0.71225383, 0.68625009, 0.70446213, 0.69482259, 0.69756222]),\n",
       "  'avg_score': 0.6990701724343382,\n",
       "  'feature_names': ('0', '1', '2', '5', '6', '8', '11', '13', '14', '15'),\n",
       "  'ci_bound': 0.011315707753104646,\n",
       "  'std_dev': 0.008804005063699175,\n",
       "  'std_err': 0.004402002531849587}}"
      ]
     },
     "execution_count": 35,
     "metadata": {},
     "output_type": "execute_result"
    }
   ],
   "source": [
    "sfs2.get_metric_dict()"
   ]
  },
  {
   "cell_type": "code",
   "execution_count": 36,
   "metadata": {},
   "outputs": [
    {
     "data": {
      "image/png": "[encoded data removed]",
      "text/plain": [
       "<Figure size 432x288 with 1 Axes>"
      ]
     },
     "metadata": {
      "needs_background": "light"
     },
     "output_type": "display_data"
    }
   ],
   "source": [
    "fig2 = plot_sfs(sfs2.get_metric_dict())\n",
    "\n",
    "plt.title('Sequential Forward Selection (w. R^2)')\n",
    "plt.grid()\n",
    "plt.show()"
   ]
  },
  {
   "cell_type": "code",
   "execution_count": 37,
   "metadata": {},
   "outputs": [
    {
     "name": "stdout",
     "output_type": "stream",
     "text": [
      "[0, 1, 2, 5, 6, 8, 11, 13, 14, 15]\n"
     ]
    }
   ],
   "source": [
    "columnList = list(x_train.columns)\n",
    "feat_cols = list(sfs2.k_feature_idx_)\n",
    "print(feat_cols)"
   ]
  },
  {
   "cell_type": "code",
   "execution_count": 38,
   "metadata": {},
   "outputs": [
    {
     "name": "stdout",
     "output_type": "stream",
     "text": [
      "['bedrooms', 'bathrooms', 'sqft_living', 'waterfront', 'view', 'grade', 'yr_built', 'zipcode', 'lat', 'long']\n"
     ]
    }
   ],
   "source": [
    "subsetColumnList = [columnList[i] for i in feat_cols] \n",
    "print(subsetColumnList)"
   ]
  },
  {
   "cell_type": "code",
   "execution_count": 39,
   "metadata": {},
   "outputs": [
    {
     "data": {
      "text/plain": [
       "LinearRegression(copy_X=True, fit_intercept=True, n_jobs=None,\n",
       "         normalize=False)"
      ]
     },
     "execution_count": 39,
     "metadata": {},
     "output_type": "execute_result"
    }
   ],
   "source": [
    "linR = LinearRegression()\n",
    "linR.fit(x_train[subsetColumnList], y_train)"
   ]
  },
  {
   "cell_type": "code",
   "execution_count": 40,
   "metadata": {},
   "outputs": [
    {
     "name": "stdout",
     "output_type": "stream",
     "text": [
      "Training accuracy on selected features: 0.700\n"
     ]
    }
   ],
   "source": [
    "y_train_pred = linR.predict(x_train[subsetColumnList])\n",
    "print('Training accuracy on selected features: %.3f' % linR.score(x_train[subsetColumnList], y_train))"
   ]
  },
  {
   "cell_type": "code",
   "execution_count": 41,
   "metadata": {},
   "outputs": [
    {
     "name": "stdout",
     "output_type": "stream",
     "text": [
      "Testing accuracy on selected features: 0.688\n"
     ]
    }
   ],
   "source": [
    "y_test_pred = linR.predict(x_test[subsetColumnList])\n",
    "print('Testing accuracy on selected features: %.3f' % linR.score(x_test[subsetColumnList], y_test))"
   ]
  },
  {
   "cell_type": "markdown",
   "metadata": {},
   "source": [
    "### Backward elimination"
   ]
  },
  {
   "cell_type": "code",
   "execution_count": 51,
   "metadata": {},
   "outputs": [],
   "source": [
    "# Build step backward feature elimination\n",
    "sfs3 = sfs(linR, k_features=8, scoring='r2', cv=5)"
   ]
  },
  {
   "cell_type": "code",
   "execution_count": 52,
   "metadata": {},
   "outputs": [],
   "source": [
    "# Perform SFFS\n",
    "sfs3 = sfs3.fit(x_train, y_train)"
   ]
  },
  {
   "cell_type": "code",
   "execution_count": 53,
   "metadata": {},
   "outputs": [
    {
     "data": {
      "text/plain": [
       "{1: {'feature_idx': (2,),\n",
       "  'cv_scores': array([0.48175174, 0.47656766, 0.45951105, 0.51305393, 0.49574751]),\n",
       "  'avg_score': 0.48532638089541874,\n",
       "  'feature_names': ('sqft_living',),\n",
       "  'ci_bound': 0.02323030772061808,\n",
       "  'std_dev': 0.018073968616545293,\n",
       "  'std_err': 0.009036984308272647},\n",
       " 2: {'feature_idx': (2, 14),\n",
       "  'cv_scores': array([0.57471031, 0.55639929, 0.56054716, 0.58171282, 0.56154082]),\n",
       "  'avg_score': 0.5669820789082498,\n",
       "  'feature_names': ('sqft_living', 'lat'),\n",
       "  'ci_bound': 0.01232447323592124,\n",
       "  'std_dev': 0.009588858880409452,\n",
       "  'std_err': 0.004794429440204725},\n",
       " 3: {'feature_idx': (2, 6, 14),\n",
       "  'cv_scores': array([0.62211098, 0.60780624, 0.60248249, 0.61743273, 0.60269864]),\n",
       "  'avg_score': 0.61050621550156,\n",
       "  'feature_names': ('sqft_living', 'view', 'lat'),\n",
       "  'ci_bound': 0.0102061400016495,\n",
       "  'std_dev': 0.007940723657403736,\n",
       "  'std_err': 0.003970361828701867},\n",
       " 4: {'feature_idx': (2, 6, 8, 14),\n",
       "  'cv_scores': array([0.65049895, 0.63031676, 0.63835305, 0.64232319, 0.63144473]),\n",
       "  'avg_score': 0.6385873349848508,\n",
       "  'feature_names': ('sqft_living', 'view', 'grade', 'lat'),\n",
       "  'ci_bound': 0.009537471287810104,\n",
       "  'std_dev': 0.007420476681162759,\n",
       "  'std_err': 0.003710238340581379},\n",
       " 5: {'feature_idx': (2, 6, 8, 11, 14),\n",
       "  'cv_scores': array([0.68226244, 0.65461601, 0.67746208, 0.67455416, 0.66304809]),\n",
       "  'avg_score': 0.6703885543013719,\n",
       "  'feature_names': ('sqft_living', 'view', 'grade', 'yr_built', 'lat'),\n",
       "  'ci_bound': 0.012993925475958982,\n",
       "  'std_dev': 0.0101097154666517,\n",
       "  'std_err': 0.00505485773332585},\n",
       " 6: {'feature_idx': (2, 5, 6, 8, 11, 14),\n",
       "  'cv_scores': array([0.7025712 , 0.67342518, 0.69010811, 0.6825042 , 0.69011749]),\n",
       "  'avg_score': 0.6877452351627411,\n",
       "  'feature_names': ('sqft_living',\n",
       "   'waterfront',\n",
       "   'view',\n",
       "   'grade',\n",
       "   'yr_built',\n",
       "   'lat'),\n",
       "  'ci_bound': 0.012375586802717902,\n",
       "  'std_dev': 0.009628626971873113,\n",
       "  'std_err': 0.004814313485936556},\n",
       " 7: {'feature_idx': (0, 2, 5, 6, 8, 11, 14),\n",
       "  'cv_scores': array([0.70510323, 0.67762288, 0.69262009, 0.68594581, 0.69080852]),\n",
       "  'avg_score': 0.6904201049992091,\n",
       "  'feature_names': ('bedrooms',\n",
       "   'sqft_living',\n",
       "   'waterfront',\n",
       "   'view',\n",
       "   'grade',\n",
       "   'yr_built',\n",
       "   'lat'),\n",
       "  'ci_bound': 0.011558664863279366,\n",
       "  'std_dev': 0.008993033949466666,\n",
       "  'std_err': 0.004496516974733334},\n",
       " 8: {'feature_idx': (0, 1, 2, 5, 6, 8, 11, 14),\n",
       "  'cv_scores': array([0.70870805, 0.68010406, 0.69629239, 0.68889881, 0.69289291]),\n",
       "  'avg_score': 0.6933792443434506,\n",
       "  'feature_names': ('bedrooms',\n",
       "   'bathrooms',\n",
       "   'sqft_living',\n",
       "   'waterfront',\n",
       "   'view',\n",
       "   'grade',\n",
       "   'yr_built',\n",
       "   'lat'),\n",
       "  'ci_bound': 0.012057099623822932,\n",
       "  'std_dev': 0.009380833126636587,\n",
       "  'std_err': 0.004690416563318293}}"
      ]
     },
     "execution_count": 53,
     "metadata": {},
     "output_type": "execute_result"
    }
   ],
   "source": [
    "sfs3.get_metric_dict()"
   ]
  },
  {
   "cell_type": "code",
   "execution_count": 54,
   "metadata": {},
   "outputs": [
    {
     "data": {
      "image/png": "[encoded data removed]",
      "text/plain": [
       "<Figure size 432x288 with 1 Axes>"
      ]
     },
     "metadata": {
      "needs_background": "light"
     },
     "output_type": "display_data"
    }
   ],
   "source": [
    "fig3 = plot_sfs(sfs3.get_metric_dict())\n",
    "\n",
    "plt.title('Sequential Backward Elimination (w. R^2)')\n",
    "plt.grid()\n",
    "plt.show()"
   ]
  },
  {
   "cell_type": "code",
   "execution_count": 55,
   "metadata": {},
   "outputs": [
    {
     "name": "stdout",
     "output_type": "stream",
     "text": [
      "[0, 1, 2, 5, 6, 8, 11, 14]\n"
     ]
    }
   ],
   "source": [
    "columnList = list(x_train.columns)\n",
    "feat_cols = list(sfs3.k_feature_idx_)\n",
    "print(feat_cols)"
   ]
  },
  {
   "cell_type": "code",
   "execution_count": 56,
   "metadata": {},
   "outputs": [
    {
     "name": "stdout",
     "output_type": "stream",
     "text": [
      "['bedrooms', 'bathrooms', 'sqft_living', 'waterfront', 'view', 'grade', 'yr_built', 'lat']\n"
     ]
    }
   ],
   "source": [
    "subsetColumnList = [columnList[i] for i in feat_cols] \n",
    "print(subsetColumnList)"
   ]
  },
  {
   "cell_type": "code",
   "execution_count": 57,
   "metadata": {},
   "outputs": [
    {
     "data": {
      "text/plain": [
       "LinearRegression(copy_X=True, fit_intercept=True, n_jobs=None,\n",
       "         normalize=False)"
      ]
     },
     "execution_count": 57,
     "metadata": {},
     "output_type": "execute_result"
    }
   ],
   "source": [
    "linR = LinearRegression()\n",
    "linR.fit(x_train[subsetColumnList], y_train)"
   ]
  },
  {
   "cell_type": "code",
   "execution_count": 58,
   "metadata": {},
   "outputs": [
    {
     "name": "stdout",
     "output_type": "stream",
     "text": [
      "Training accuracy on selected features: 0.694\n"
     ]
    }
   ],
   "source": [
    "y_train_pred = linR.predict(x_train[subsetColumnList])\n",
    "print('Training accuracy on selected features: %.3f' % linR.score(x_train[subsetColumnList], y_train))"
   ]
  },
  {
   "cell_type": "code",
   "execution_count": 59,
   "metadata": {},
   "outputs": [
    {
     "name": "stdout",
     "output_type": "stream",
     "text": [
      "Testing accuracy on selected features: 0.681\n"
     ]
    }
   ],
   "source": [
    "y_test_pred = linR.predict(x_test[subsetColumnList])\n",
    "print('Testing accuracy on selected features: %.3f' % linR.score(x_test[subsetColumnList], y_test))"
   ]
  },
  {
   "cell_type": "markdown",
   "metadata": {},
   "source": [
    "# Mixed Selection"
   ]
  },
  {
   "cell_type": "code",
   "execution_count": 70,
   "metadata": {},
   "outputs": [],
   "source": [
    "# Build step backward feature elimination\n",
    "sfs4 = sfs(linR, forward = True, floating = True, k_features=10, scoring='r2', cv=5)"
   ]
  },
  {
   "cell_type": "code",
   "execution_count": 71,
   "metadata": {},
   "outputs": [],
   "source": [
    "# Perform SFFS\n",
    "sfs4 = sfs4.fit(x_train.values, y_train.values)"
   ]
  },
  {
   "cell_type": "code",
   "execution_count": 72,
   "metadata": {},
   "outputs": [
    {
     "data": {
      "text/plain": [
       "{1: {'feature_idx': (2,),\n",
       "  'cv_scores': array([0.48175174, 0.47656766, 0.45951105, 0.51305393, 0.49574751]),\n",
       "  'avg_score': 0.48532638089541874,\n",
       "  'feature_names': ('2',),\n",
       "  'ci_bound': 0.02323030772061808,\n",
       "  'std_dev': 0.018073968616545293,\n",
       "  'std_err': 0.009036984308272647},\n",
       " 2: {'feature_idx': (2, 14),\n",
       "  'cv_scores': array([0.57471031, 0.55639929, 0.56054716, 0.58171282, 0.56154082]),\n",
       "  'avg_score': 0.5669820789082498,\n",
       "  'feature_names': ('2', '14'),\n",
       "  'ci_bound': 0.01232447323592124,\n",
       "  'std_dev': 0.009588858880409452,\n",
       "  'std_err': 0.004794429440204725},\n",
       " 3: {'feature_idx': (2, 6, 14),\n",
       "  'cv_scores': array([0.62211098, 0.60780624, 0.60248249, 0.61743273, 0.60269864]),\n",
       "  'avg_score': 0.61050621550156,\n",
       "  'feature_names': ('2', '6', '14'),\n",
       "  'ci_bound': 0.0102061400016495,\n",
       "  'std_dev': 0.007940723657403736,\n",
       "  'std_err': 0.003970361828701867},\n",
       " 4: {'feature_idx': (2, 6, 8, 14),\n",
       "  'cv_scores': array([0.65049895, 0.63031676, 0.63835305, 0.64232319, 0.63144473]),\n",
       "  'avg_score': 0.6385873349848508,\n",
       "  'feature_names': ('2', '6', '8', '14'),\n",
       "  'ci_bound': 0.009537471287810104,\n",
       "  'std_dev': 0.007420476681162759,\n",
       "  'std_err': 0.003710238340581379},\n",
       " 5: {'feature_idx': (2, 6, 8, 11, 14),\n",
       "  'cv_scores': array([0.68226244, 0.65461601, 0.67746208, 0.67455416, 0.66304809]),\n",
       "  'avg_score': 0.6703885543013719,\n",
       "  'feature_names': ('2', '6', '8', '11', '14'),\n",
       "  'ci_bound': 0.012993925475958982,\n",
       "  'std_dev': 0.0101097154666517,\n",
       "  'std_err': 0.00505485773332585},\n",
       " 6: {'feature_idx': (2, 5, 6, 8, 11, 14),\n",
       "  'cv_scores': array([0.7025712 , 0.67342518, 0.69010811, 0.6825042 , 0.69011749]),\n",
       "  'avg_score': 0.6877452351627411,\n",
       "  'feature_names': ('2', '5', '6', '8', '11', '14'),\n",
       "  'ci_bound': 0.012375586802717902,\n",
       "  'std_dev': 0.009628626971873113,\n",
       "  'std_err': 0.004814313485936556},\n",
       " 7: {'feature_idx': (0, 2, 5, 6, 8, 11, 14),\n",
       "  'cv_scores': array([0.70510323, 0.67762288, 0.69262009, 0.68594581, 0.69080852]),\n",
       "  'avg_score': 0.6904201049992091,\n",
       "  'feature_names': ('0', '2', '5', '6', '8', '11', '14'),\n",
       "  'ci_bound': 0.011558664863279366,\n",
       "  'std_dev': 0.008993033949466666,\n",
       "  'std_err': 0.004496516974733334},\n",
       " 8: {'feature_idx': (0, 1, 2, 5, 6, 8, 11, 14),\n",
       "  'cv_scores': array([0.70870805, 0.68010406, 0.69629239, 0.68889881, 0.69289291]),\n",
       "  'avg_score': 0.6933792443434506,\n",
       "  'feature_names': ('0', '1', '2', '5', '6', '8', '11', '14'),\n",
       "  'ci_bound': 0.012057099623822932,\n",
       "  'std_dev': 0.009380833126636587,\n",
       "  'std_err': 0.004690416563318293},\n",
       " 9: {'feature_idx': (0, 1, 2, 5, 6, 8, 11, 13, 14),\n",
       "  'cv_scores': array([0.70838182, 0.68220635, 0.70051347, 0.69236495, 0.69559542]),\n",
       "  'avg_score': 0.6958124033753428,\n",
       "  'feature_names': ('0', '1', '2', '5', '6', '8', '11', '13', '14'),\n",
       "  'ci_bound': 0.011162765415618676,\n",
       "  'std_dev': 0.00868501072918121,\n",
       "  'std_err': 0.004342505364590605},\n",
       " 10: {'feature_idx': (0, 1, 2, 5, 6, 8, 11, 13, 14, 15),\n",
       "  'cv_scores': array([0.71225383, 0.68625009, 0.70446213, 0.69482259, 0.69756222]),\n",
       "  'avg_score': 0.6990701724343382,\n",
       "  'feature_names': ('0', '1', '2', '5', '6', '8', '11', '13', '14', '15'),\n",
       "  'ci_bound': 0.011315707753104646,\n",
       "  'std_dev': 0.008804005063699175,\n",
       "  'std_err': 0.004402002531849587}}"
      ]
     },
     "execution_count": 72,
     "metadata": {},
     "output_type": "execute_result"
    }
   ],
   "source": [
    "sfs4.get_metric_dict()"
   ]
  },
  {
   "cell_type": "code",
   "execution_count": 73,
   "metadata": {},
   "outputs": [
    {
     "data": {
      "image/png": "[encoded data removed]",
      "text/plain": [
       "<Figure size 432x288 with 1 Axes>"
      ]
     },
     "metadata": {
      "needs_background": "light"
     },
     "output_type": "display_data"
    }
   ],
   "source": [
    "fig4 = plot_sfs(sfs4.get_metric_dict())\n",
    "\n",
    "plt.title('Sequential Mixed Selection (w. R^2)')\n",
    "plt.grid()\n",
    "plt.show()"
   ]
  },
  {
   "cell_type": "code",
   "execution_count": 74,
   "metadata": {},
   "outputs": [
    {
     "name": "stdout",
     "output_type": "stream",
     "text": [
      "[0, 1, 2, 5, 6, 8, 11, 13, 14, 15]\n"
     ]
    }
   ],
   "source": [
    "columnList = list(x_train.columns)\n",
    "feat_cols = list(sfs4.k_feature_idx_)\n",
    "print(feat_cols)"
   ]
  },
  {
   "cell_type": "code",
   "execution_count": 75,
   "metadata": {},
   "outputs": [
    {
     "name": "stdout",
     "output_type": "stream",
     "text": [
      "['bedrooms', 'bathrooms', 'sqft_living', 'waterfront', 'view', 'grade', 'yr_built', 'zipcode', 'lat', 'long']\n"
     ]
    }
   ],
   "source": [
    "subsetColumnList = [columnList[i] for i in feat_cols] \n",
    "print(subsetColumnList)"
   ]
  },
  {
   "cell_type": "code",
   "execution_count": 76,
   "metadata": {},
   "outputs": [
    {
     "data": {
      "text/plain": [
       "LinearRegression(copy_X=True, fit_intercept=True, n_jobs=None,\n",
       "         normalize=False)"
      ]
     },
     "execution_count": 76,
     "metadata": {},
     "output_type": "execute_result"
    }
   ],
   "source": [
    "linR = LinearRegression()\n",
    "linR.fit(x_train[subsetColumnList], y_train)"
   ]
  },
  {
   "cell_type": "code",
   "execution_count": 77,
   "metadata": {},
   "outputs": [
    {
     "name": "stdout",
     "output_type": "stream",
     "text": [
      "Training accuracy on selected features: 0.700\n"
     ]
    }
   ],
   "source": [
    "y_train_pred = linR.predict(x_train[subsetColumnList])\n",
    "print('Training accuracy on selected features: %.3f' % linR.score(x_train[subsetColumnList], y_train))"
   ]
  },
  {
   "cell_type": "code",
   "execution_count": 78,
   "metadata": {},
   "outputs": [
    {
     "name": "stdout",
     "output_type": "stream",
     "text": [
      "Testing accuracy on selected features: 0.688\n"
     ]
    }
   ],
   "source": [
    "y_test_pred = linR.predict(x_test[subsetColumnList])\n",
    "print('Testing accuracy on selected features: %.3f' % linR.score(x_test[subsetColumnList], y_test))"
   ]
  },
  {
   "cell_type": "code",
   "execution_count": null,
   "metadata": {},
   "outputs": [],
   "source": []
  }
 ],
 "metadata": {
  "kernelspec": {
   "display_name": "Python 3",
   "language": "python",
   "name": "python3"
  },
  "language_info": {
   "codemirror_mode": {
    "name": "ipython",
    "version": 3
   },
   "file_extension": ".py",
   "mimetype": "text/x-python",
   "name": "python",
   "nbconvert_exporter": "python",
   "pygments_lexer": "ipython3",
   "version": "3.7.1"
  }
 },
 "nbformat": 4,
 "nbformat_minor": 2
}
