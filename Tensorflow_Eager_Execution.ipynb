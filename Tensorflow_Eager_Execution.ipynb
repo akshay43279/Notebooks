{
  "nbformat": 4,
  "nbformat_minor": 0,
  "metadata": {
    "colab": {
      "name": "1b. Tensorflow_Hello_World_Eager_Execution.ipynb",
      "version": "0.3.2",
      "provenance": [],
      "private_outputs": true
    },
    "kernelspec": {
      "name": "python3",
      "display_name": "Python 3"
    }
  },
  "cells": [
    {
      "cell_type": "markdown",
      "metadata": {
        "id": "7-VaJR6thb3n",
        "colab_type": "text",
        "slideshow": {
          "slide_type": "slide"
        }
      },
      "source": [
        "### Load tensorflow & Enable Eager Execution"
      ]
    },
    {
      "cell_type": "code",
      "metadata": {
        "id": "4KU1xiUVhb3p",
        "colab_type": "code",
        "slideshow": {
          "slide_type": "fragment"
        },
        "colab": {}
      },
      "source": [
        "import tensorflow as tf"
      ],
      "execution_count": 0,
      "outputs": []
    },
    {
      "cell_type": "code",
      "metadata": {
        "id": "02b1LGIM-oN4",
        "colab_type": "code",
        "colab": {}
      },
      "source": [
        "#Enable Eager Execution\n",
        "tf.enable_eager_execution()"
      ],
      "execution_count": 0,
      "outputs": []
    },
    {
      "cell_type": "markdown",
      "metadata": {
        "id": "NZMXVNBAhb3y",
        "colab_type": "text",
        "slideshow": {
          "slide_type": "slide"
        }
      },
      "source": [
        "### Create a tensor"
      ]
    },
    {
      "cell_type": "code",
      "metadata": {
        "id": "39hcKDONhb3z",
        "colab_type": "code",
        "slideshow": {
          "slide_type": "fragment"
        },
        "colab": {}
      },
      "source": [
        "hello = tf.constant('Hello World')"
      ],
      "execution_count": 0,
      "outputs": []
    },
    {
      "cell_type": "code",
      "metadata": {
        "id": "cAxaT5W7hb36",
        "colab_type": "code",
        "slideshow": {
          "slide_type": "fragment"
        },
        "colab": {}
      },
      "source": [
        "print(hello)"
      ],
      "execution_count": 0,
      "outputs": []
    },
    {
      "cell_type": "code",
      "metadata": {
        "id": "pJcA5wlUFgB5",
        "colab_type": "code",
        "colab": {}
      },
      "source": [
        "print(hello.numpy())"
      ],
      "execution_count": 0,
      "outputs": []
    },
    {
      "cell_type": "markdown",
      "metadata": {
        "id": "qqOKcrcWhb4F",
        "colab_type": "text",
        "slideshow": {
          "slide_type": "slide"
        }
      },
      "source": [
        "### Tensor name and shape"
      ]
    },
    {
      "cell_type": "code",
      "metadata": {
        "id": "UaTVftV2hb4H",
        "colab_type": "code",
        "slideshow": {
          "slide_type": "fragment"
        },
        "colab": {}
      },
      "source": [
        "hello_2 =  tf.constant('Hello World', shape=[6,2])\n",
        "print(hello_2)"
      ],
      "execution_count": 0,
      "outputs": []
    },
    {
      "cell_type": "markdown",
      "metadata": {
        "id": "dxBQvyEqD3cV",
        "colab_type": "text"
      },
      "source": [
        "### Adding two tensors"
      ]
    },
    {
      "cell_type": "code",
      "metadata": {
        "id": "BHvirf2MWy4Y",
        "colab_type": "code",
        "colab": {}
      },
      "source": [
        "a = tf.constant([1.2])\n",
        "b = tf.constant([3.4])\n",
        "c = tf.add(a,b)\n",
        "print(c)"
      ],
      "execution_count": 0,
      "outputs": []
    },
    {
      "cell_type": "code",
      "metadata": {
        "id": "bs0bQX1b-9yb",
        "colab_type": "code",
        "colab": {}
      },
      "source": [
        "d = 1.2\n",
        "e = 3.4\n",
        "f = tf.add(d,e)\n",
        "print(f)"
      ],
      "execution_count": 0,
      "outputs": []
    },
    {
      "cell_type": "code",
      "metadata": {
        "id": "4PpbFf-6Kguz",
        "colab_type": "code",
        "colab": {}
      },
      "source": [
        ""
      ],
      "execution_count": 0,
      "outputs": []
    }
  ]
}